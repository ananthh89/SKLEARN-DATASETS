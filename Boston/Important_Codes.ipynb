{
 "cells": [
  {
   "cell_type": "markdown",
   "metadata": {},
   "source": [
    "### Different ways to plot a boxplot\n",
    "https://www.dataquest.io/blog/jupyter-notebook-tips-tricks-shortcuts/#:~:text=Select%20Multiple%20Cells%3A,run%20them%20as%20a%20batch."
   ]
  },
  {
   "cell_type": "code",
   "execution_count": 3,
   "metadata": {},
   "outputs": [
    {
     "data": {
      "image/png": "[encoded data removed]",
      "text/plain": [
       "<Figure size 432x288 with 1 Axes>"
      ]
     },
     "metadata": {
      "needs_background": "light"
     },
     "output_type": "display_data"
    },
    {
     "data": {
      "image/png": "[encoded data removed]",
      "text/plain": [
       "<Figure size 432x288 with 1 Axes>"
      ]
     },
     "metadata": {
      "needs_background": "light"
     },
     "output_type": "display_data"
    },
    {
     "data": {
      "image/png": "[encoded data removed]",
      "text/plain": [
       "<Figure size 432x288 with 1 Axes>"
      ]
     },
     "metadata": {
      "needs_background": "light"
     },
     "output_type": "display_data"
    }
   ],
   "source": [
    "import pandas as pd\n",
    "import matplotlib.pyplot as plt\n",
    "%matplotlib inline\n",
    "data=pd.read_csv('../Datasets/student.csv')\n",
    "#Explaining Boxplot -- Box part starting is 25 percentile and end is 75 percentile. The line inside denotes median. \n",
    "#The first horizonal line denotes Lower boundary(q1-1.5*IQR) and upper boundary (q3+1.5*IQR) where IQR is q3-q1\n",
    "for i in data.columns:\n",
    "    plt.boxplot(data[i])\n",
    "    plt.show()\n"
   ]
  },
  {
   "cell_type": "markdown",
   "metadata": {},
   "source": [
    "Given a number N, find the smallest number which can be obtained by rearranging the digits of N. The generated number should not have any leading zeroes.\n",
    "\n",
    "Example 1:\n",
    "\n",
    "Input: N = 846903\n",
    "Output:304689\n",
    "\n",
    "Example 2:\n",
    "\n",
    "Input: N = 55010\n",
    "Output:10055"
   ]
  },
  {
   "cell_type": "code",
   "execution_count": 28,
   "metadata": {},
   "outputs": [
    {
     "name": "stdout",
     "output_type": "stream",
     "text": [
      "3430043\n",
      "[0, 0, 3, 3, 3, 4, 4]\n"
     ]
    }
   ],
   "source": [
    "ls=[]\n",
    "n=(input())\n",
    "for i in n:\n",
    "    ls.append(int(i))\n",
    "ls.sort()\n",
    "\n",
    "\n",
    "print(ls)  "
   ]
  },
  {
   "cell_type": "code",
   "execution_count": 29,
   "metadata": {},
   "outputs": [
    {
     "data": {
      "text/plain": [
       "'3003344'"
      ]
     },
     "execution_count": 29,
     "metadata": {},
     "output_type": "execute_result"
    }
   ],
   "source": [
    "st=''\n",
    "if 0 not in ls:\n",
    "    for i in ls:\n",
    "        st=st+str(i)\n",
    "else:\n",
    "    j=ls.count(0)\n",
    "    i=0\n",
    "    st=st+str(ls[j])\n",
    "    while(j>0):\n",
    "        st=st+'0'\n",
    "        j-=1\n",
    "        i+=1\n",
    "    \n",
    "    for k in range(i+1,len(ls)):\n",
    "        st=st+str(ls[k])\n",
    "        \n",
    "        \n",
    "        \n",
    "st       "
   ]
  },
  {
   "cell_type": "markdown",
   "metadata": {},
   "source": [
    "The jury consists of M teams of people. Size of each team is given in array teams[]. The jury collectively has N mics that must be shared by everyone. Find a way to break the teams into N groups such that each group can have its own mic and the size of the largest group is minimised. \n",
    " \n",
    "\n",
    "Example 1:\n",
    "\n",
    "Input:\n",
    "N = 3, M = 2\n",
    "teams[] = {10, 30}\n",
    "Output: 15\n",
    "Explanation: We split 2nd team into 2 \n",
    "groups {15,15}, so we get {10,15,15}. \n",
    "Here maximum group size is 15."
   ]
  },
  {
   "cell_type": "code",
   "execution_count": 48,
   "metadata": {},
   "outputs": [],
   "source": [
    "n=1\n",
    "m=2\n",
    "t=[10,30]\n",
    "def mxt(n,t):\n",
    "    if len(t)==n:\n",
    "        mx=max(t)\n",
    "        print(mx)\n",
    "    elif len(t)<n:\n",
    "        mx=max(t)\n",
    "        n=n-1\n",
    "        mx=round(mx/n)\n",
    "        print(int(mx))\n",
    "    else:\n",
    "        t.sort()\n",
    "        t1=[]\n",
    "        print(n)\n",
    "        for i in range(n):\n",
    "            t1[i]=t[i]+t[i+1]\n",
    "            \n",
    "        mx=max(t1)\n",
    "            \n",
    "        \n",
    "    return mx\n",
    "        \n",
    "    "
   ]
  },
  {
   "cell_type": "code",
   "execution_count": 49,
   "metadata": {},
   "outputs": [
    {
     "name": "stdout",
     "output_type": "stream",
     "text": [
      "1\n"
     ]
    },
    {
     "ename": "IndexError",
     "evalue": "list assignment index out of range",
     "output_type": "error",
     "traceback": [
      "\u001b[1;31m---------------------------------------------------------------------------\u001b[0m",
      "\u001b[1;31mIndexError\u001b[0m                                Traceback (most recent call last)",
      "\u001b[1;32m<ipython-input-49-be1462392a03>\u001b[0m in \u001b[0;36m<module>\u001b[1;34m\u001b[0m\n\u001b[1;32m----> 1\u001b[1;33m \u001b[0mmxt\u001b[0m\u001b[1;33m(\u001b[0m\u001b[1;36m1\u001b[0m\u001b[1;33m,\u001b[0m\u001b[1;33m[\u001b[0m\u001b[1;36m10\u001b[0m\u001b[1;33m,\u001b[0m\u001b[1;36m30\u001b[0m\u001b[1;33m]\u001b[0m\u001b[1;33m)\u001b[0m\u001b[1;33m\u001b[0m\u001b[1;33m\u001b[0m\u001b[0m\n\u001b[0m",
      "\u001b[1;32m<ipython-input-48-18b041c3ae0e>\u001b[0m in \u001b[0;36mmxt\u001b[1;34m(n, t)\u001b[0m\n\u001b[0;32m     16\u001b[0m         \u001b[0mprint\u001b[0m\u001b[1;33m(\u001b[0m\u001b[0mn\u001b[0m\u001b[1;33m)\u001b[0m\u001b[1;33m\u001b[0m\u001b[1;33m\u001b[0m\u001b[0m\n\u001b[0;32m     17\u001b[0m         \u001b[1;32mfor\u001b[0m \u001b[0mi\u001b[0m \u001b[1;32min\u001b[0m \u001b[0mrange\u001b[0m\u001b[1;33m(\u001b[0m\u001b[0mn\u001b[0m\u001b[1;33m)\u001b[0m\u001b[1;33m:\u001b[0m\u001b[1;33m\u001b[0m\u001b[1;33m\u001b[0m\u001b[0m\n\u001b[1;32m---> 18\u001b[1;33m             \u001b[0mt1\u001b[0m\u001b[1;33m[\u001b[0m\u001b[0mi\u001b[0m\u001b[1;33m]\u001b[0m\u001b[1;33m=\u001b[0m\u001b[0mt\u001b[0m\u001b[1;33m[\u001b[0m\u001b[0mi\u001b[0m\u001b[1;33m]\u001b[0m\u001b[1;33m+\u001b[0m\u001b[0mt\u001b[0m\u001b[1;33m[\u001b[0m\u001b[0mi\u001b[0m\u001b[1;33m+\u001b[0m\u001b[1;36m1\u001b[0m\u001b[1;33m]\u001b[0m\u001b[1;33m\u001b[0m\u001b[1;33m\u001b[0m\u001b[0m\n\u001b[0m\u001b[0;32m     19\u001b[0m \u001b[1;33m\u001b[0m\u001b[0m\n\u001b[0;32m     20\u001b[0m         \u001b[0mmx\u001b[0m\u001b[1;33m=\u001b[0m\u001b[0mmax\u001b[0m\u001b[1;33m(\u001b[0m\u001b[0mt1\u001b[0m\u001b[1;33m)\u001b[0m\u001b[1;33m\u001b[0m\u001b[1;33m\u001b[0m\u001b[0m\n",
      "\u001b[1;31mIndexError\u001b[0m: list assignment index out of range"
     ]
    }
   ],
   "source": [
    "mxt(1,[10,30])"
   ]
  },
  {
   "cell_type": "code",
   "execution_count": 51,
   "metadata": {},
   "outputs": [],
   "source": [
    " def micsandjury (N, M, teams):\n",
    "        \n",
    "        l=1\n",
    "        r=1000000000\n",
    "        fans=1\n",
    "        while l<=r:\n",
    "            mid = (l+r)//2\n",
    "            groups=0\n",
    "            for i in range(M):\n",
    "                if teams[i]%mid!=0:\n",
    "                    groups = groups+(teams[i]//mid) + 1\n",
    "                else:\n",
    "                    groups = groups+(teams[i]//mid)\n",
    "            \n",
    "            if(groups>N):\n",
    "                l = mid+1\n",
    "            else:\n",
    "                fans=mid\n",
    "                r=mid-1\n",
    "        \n",
    "        return fans"
   ]
  },
  {
   "cell_type": "code",
   "execution_count": 56,
   "metadata": {},
   "outputs": [
    {
     "data": {
      "text/plain": [
       "1"
      ]
     },
     "execution_count": 56,
     "metadata": {},
     "output_type": "execute_result"
    }
   ],
   "source": [
    "micsandjury(1,2,[5,1])"
   ]
  },
  {
   "cell_type": "code",
   "execution_count": null,
   "metadata": {},
   "outputs": [],
   "source": []
  }
 ],
 "metadata": {
  "kernelspec": {
   "display_name": "Python 3",
   "language": "python",
   "name": "python3"
  },
  "language_info": {
   "codemirror_mode": {
    "name": "ipython",
    "version": 3
   },
   "file_extension": ".py",
   "mimetype": "text/x-python",
   "name": "python",
   "nbconvert_exporter": "python",
   "pygments_lexer": "ipython3",
   "version": "3.7.4"
  }
 },
 "nbformat": 4,
 "nbformat_minor": 2
}
